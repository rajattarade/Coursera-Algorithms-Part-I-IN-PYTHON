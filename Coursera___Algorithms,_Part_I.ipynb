{
  "nbformat": 4,
  "nbformat_minor": 0,
  "metadata": {
    "colab": {
      "name": "Coursera | Algorithms, Part I.ipynb",
      "provenance": [],
      "collapsed_sections": [
        "ZCCc0OFxERIN"
      ]
    },
    "kernelspec": {
      "name": "python3",
      "display_name": "Python 3"
    },
    "language_info": {
      "name": "python"
    }
  },
  "cells": [
    {
      "cell_type": "markdown",
      "source": [
        "# **Week 1**"
      ],
      "metadata": {
        "id": "wP7yKIng-sKH"
      }
    },
    {
      "cell_type": "markdown",
      "source": [
        "## Quick Find"
      ],
      "metadata": {
        "id": "0md7fjax-vKY"
      }
    },
    {
      "cell_type": "code",
      "source": [
        "class qf():\n",
        "  def __init__(self, n):\n",
        "    self.arr = [0]*n\n",
        "    for i in range(n):\n",
        "      self.arr[i] = i\n",
        "    \n",
        "  def connected(self, p, q):\n",
        "    return self.arr[p] == self.arr[q]\n",
        "\n",
        "  def union(self, p, q):\n",
        "    pid = self.arr[p]\n",
        "    qid = self.arr[q]\n",
        "    for i in range(len(self.arr)):\n",
        "      if self.arr[i] == pid:\n",
        "        self.arr[i] = qid"
      ],
      "metadata": {
        "id": "mLMPMYqZ-yPR"
      },
      "execution_count": null,
      "outputs": []
    },
    {
      "cell_type": "code",
      "source": [
        "#Tester Code\n",
        "testArr = [[4, 3],\n",
        "[3, 8],\n",
        "[6, 5],\n",
        "[9, 4],\n",
        "[2, 1],\n",
        "[8, 9],\n",
        "[5, 0],\n",
        "[7, 2],\n",
        "[6, 1],\n",
        "[1, 0],\n",
        "[6, 7]]\n",
        "\n",
        "example = qf(len(testArr))\n",
        "\n",
        "for pair in testArr:\n",
        "  p = pair[0]\n",
        "  q = pair[1]\n",
        "  if not example.connected(p, q):\n",
        "    example.union(p, q)\n",
        "    print(str(p) + \" + \" + str(q))\n",
        "\n",
        "print(example.arr)"
      ],
      "metadata": {
        "colab": {
          "base_uri": "https://localhost:8080/"
        },
        "id": "cjOu0YudAlTy",
        "outputId": "38268993-b1eb-4dfa-f9b7-732d3df5fd9d"
      },
      "execution_count": null,
      "outputs": [
        {
          "output_type": "stream",
          "name": "stdout",
          "text": [
            "4 + 3\n",
            "3 + 8\n",
            "6 + 5\n",
            "9 + 4\n",
            "2 + 1\n",
            "5 + 0\n",
            "7 + 2\n",
            "6 + 1\n",
            "[1, 1, 1, 8, 8, 1, 1, 1, 8, 8, 10]\n"
          ]
        }
      ]
    },
    {
      "cell_type": "markdown",
      "source": [
        "## Quick Union\n"
      ],
      "metadata": {
        "id": "ZCCc0OFxERIN"
      }
    },
    {
      "cell_type": "code",
      "source": [
        "class qu():\n",
        "  def __init__(self, n):\n",
        "    self.arr = [0]*n\n",
        "    for i in range(n):\n",
        "      self.arr[i] = i\n",
        "\n",
        "  def findRoot(self, ele):\n",
        "    if (self.arr[ele] != ele):\n",
        "      return self.findRoot(self.arr[ele])\n",
        "    return self.arr[ele]\n",
        "    \n",
        "  def connected(self, p, q):\n",
        "    return self.findRoot(p) == self.findRoot(q)\n",
        "\n",
        "  def union(self, p, q):\n",
        "    self.arr[self.findRoot(p)] = self.findRoot(q)"
      ],
      "metadata": {
        "id": "czCHnynUEWKM"
      },
      "execution_count": null,
      "outputs": []
    },
    {
      "cell_type": "code",
      "source": [
        "#Tester Code\n",
        "testArr = [[4, 3],\n",
        "[3, 8],\n",
        "[6, 5],\n",
        "[9, 4],\n",
        "[2, 1],\n",
        "[8, 9],\n",
        "[5, 0],\n",
        "[7, 2],\n",
        "[6, 1],\n",
        "[1, 0],\n",
        "[6, 7]]\n",
        "\n",
        "example = qu(len(testArr))\n",
        "\n",
        "for pair in testArr:\n",
        "  p = pair[0]\n",
        "  q = pair[1]\n",
        "  if not example.connected(p, q):\n",
        "    example.union(p, q)\n",
        "    print(str(p) + \" + \" + str(q))\n",
        "\n",
        "print(example.arr)"
      ],
      "metadata": {
        "colab": {
          "base_uri": "https://localhost:8080/"
        },
        "id": "3D4Ut6NRFZVj",
        "outputId": "a438772f-9b2a-4516-f683-7a9fd0e9306d"
      },
      "execution_count": null,
      "outputs": [
        {
          "output_type": "stream",
          "name": "stdout",
          "text": [
            "4 + 3\n",
            "3 + 8\n",
            "6 + 5\n",
            "9 + 4\n",
            "2 + 1\n",
            "5 + 0\n",
            "7 + 2\n",
            "6 + 1\n",
            "[1, 1, 1, 8, 3, 0, 5, 1, 8, 8, 10]\n"
          ]
        }
      ]
    },
    {
      "cell_type": "markdown",
      "source": [
        "# **Week 2**"
      ],
      "metadata": {
        "id": "Azkno1cgEr_x"
      }
    },
    {
      "cell_type": "markdown",
      "source": [
        "## Stack using LinkedList"
      ],
      "metadata": {
        "id": "35fpEuq-E_6U"
      }
    },
    {
      "cell_type": "code",
      "source": [
        "class node():\n",
        "  def __init__(self, item):\n",
        "    self.item = item\n",
        "    self.next = None\n",
        "\n",
        "class stack(node):\n",
        "  def __init__(self):\n",
        "    self.first = node(None)\n",
        "\n",
        "  def push(self, item):\n",
        "    newNode = node(item)\n",
        "    newNode.next = self.first\n",
        "    self.first = newNode\n",
        "\n",
        "  def pop(self):\n",
        "    temp = self.first.item\n",
        "    self.first = self.first.next\n",
        "    return temp\n",
        "\n",
        "  def __repr__(self):\n",
        "    item = self.first\n",
        "    while(item.next != None):\n",
        "      print(item.item)\n",
        "      item = item.next\n",
        "    return \"End of Stack\""
      ],
      "metadata": {
        "id": "F9NYNWSUEtCd"
      },
      "execution_count": null,
      "outputs": []
    },
    {
      "cell_type": "code",
      "source": [
        "#Tester Code\n",
        "\n",
        "testStack = stack()\n",
        "testString = \"to be or not to - be - - that - - - is\"\n",
        "\n",
        "for data in testString.split():\n",
        "  if data == '-':\n",
        "    print(testStack.pop())\n",
        "  else:\n",
        "    testStack.push(data)"
      ],
      "metadata": {
        "colab": {
          "base_uri": "https://localhost:8080/"
        },
        "id": "fKzAKQotW_s5",
        "outputId": "7b769cff-d99d-461f-ef68-4e27a3e6dd94"
      },
      "execution_count": null,
      "outputs": [
        {
          "output_type": "stream",
          "name": "stdout",
          "text": [
            "to\n",
            "be\n",
            "not\n",
            "that\n",
            "or\n",
            "be\n"
          ]
        }
      ]
    },
    {
      "cell_type": "markdown",
      "source": [
        "## Queue using LinkedList"
      ],
      "metadata": {
        "id": "P65BjKuPXIH1"
      }
    },
    {
      "cell_type": "code",
      "source": [
        "class node():\n",
        "  def __init__(self, item):\n",
        "    self.item = item\n",
        "    self.next = None\n",
        "\n",
        "class queue(node):\n",
        "  def __init__(self):\n",
        "    self.first = node(None)\n",
        "    self.last = node(None)\n",
        "    self.first.next = self.last\n",
        "\n",
        "  def enqueue(self, item):\n",
        "    if self.first.item == None:\n",
        "      self.first.item = item\n",
        "    else:\n",
        "      self.last.item = item\n",
        "      newNode = node(None)\n",
        "      self.last.next = newNode\n",
        "      self.last = newNode\n",
        "\n",
        "  def dequeue(self):\n",
        "    temp = self.first.item\n",
        "    self.first = self.first.next\n",
        "    return temp\n",
        "\n",
        "  def __repr__(self):\n",
        "    item = self.first\n",
        "    while(item.next != None):\n",
        "      print(item.item)\n",
        "      item = item.next\n",
        "    return \"End of Queue\""
      ],
      "metadata": {
        "id": "R6s9sOg1XNtj"
      },
      "execution_count": null,
      "outputs": []
    },
    {
      "cell_type": "code",
      "source": [
        "#Tester Code\n",
        "\n",
        "testStack = queue()\n",
        "testString = \"to be or not to - be - - that - - - is\"\n",
        "\n",
        "for data in testString.split():\n",
        "  if data == '-':\n",
        "    print(testStack.dequeue())\n",
        "  else:\n",
        "    testStack.enqueue(data)"
      ],
      "metadata": {
        "colab": {
          "base_uri": "https://localhost:8080/"
        },
        "id": "EuK6cq-uZFBW",
        "outputId": "cf89cc9b-d311-43c8-a09c-f40a4cab8ca0"
      },
      "execution_count": null,
      "outputs": [
        {
          "output_type": "stream",
          "name": "stdout",
          "text": [
            "to\n",
            "be\n",
            "or\n",
            "not\n",
            "to\n",
            "be\n"
          ]
        }
      ]
    },
    {
      "cell_type": "markdown",
      "source": [
        "## Selection Sort"
      ],
      "metadata": {
        "id": "68ZJ1FGPJphQ"
      }
    },
    {
      "cell_type": "code",
      "source": [
        "import random\n",
        "import time"
      ],
      "metadata": {
        "id": "GQbmICAzahNR"
      },
      "execution_count": null,
      "outputs": []
    },
    {
      "cell_type": "code",
      "source": [
        "def selection_sort(ary):\n",
        "  for i in range(len(ary)):\n",
        "    min = i\n",
        "    for j in range(i+1, len(ary)):\n",
        "      if ary[j] < ary[min]:\n",
        "        min = j\n",
        "    ary[i], ary[min] = ary[min], ary[i]\n",
        "    #print(ary[min])\n",
        "    #print(ary)"
      ],
      "metadata": {
        "id": "4x2uZZ9VK37N"
      },
      "execution_count": null,
      "outputs": []
    },
    {
      "cell_type": "code",
      "source": [
        "for n in [10, 100, 1000, 10000, 20000]:\n",
        "  arr = [0]*n\n",
        "  for i in range(n):\n",
        "    arr[i] = int(random.random()*n)\n",
        "  now = time.time()\n",
        "  selection_sort(arr)\n",
        "  print(\"It took {} \\t miliseconds to sort array of {} size\".format(int((time.time()-now)*1000), n))"
      ],
      "metadata": {
        "colab": {
          "base_uri": "https://localhost:8080/"
        },
        "id": "5DRqjfL-Kcvh",
        "outputId": "7e3726f3-e0ab-4d9a-801f-f5093fa58a9c"
      },
      "execution_count": null,
      "outputs": [
        {
          "output_type": "stream",
          "name": "stdout",
          "text": [
            "It took 0 \t miliseconds to sort array of 10 size\n",
            "It took 0 \t miliseconds to sort array of 100 size\n",
            "It took 53 \t miliseconds to sort array of 1000 size\n",
            "It took 4589 \t miliseconds to sort array of 10000 size\n",
            "It took 18282 \t miliseconds to sort array of 20000 size\n"
          ]
        }
      ]
    },
    {
      "cell_type": "markdown",
      "source": [
        "## Insertion Sort"
      ],
      "metadata": {
        "id": "jl3YtBo38892"
      }
    },
    {
      "cell_type": "code",
      "source": [
        "import random\n",
        "import time"
      ],
      "metadata": {
        "id": "tejGX1Gd8_Gd"
      },
      "execution_count": null,
      "outputs": []
    },
    {
      "cell_type": "code",
      "source": [
        "def insertion_sort(ary):\n",
        "  for i in range(len(ary)):\n",
        "    for j in range(i, 0, -1):\n",
        "      if ary[j] < ary[j-1]:\n",
        "        ary[j], ary[j-1] = ary[j-1], ary[j]\n",
        "      else:\n",
        "        break"
      ],
      "metadata": {
        "id": "V3_nbkGw9GMw"
      },
      "execution_count": null,
      "outputs": []
    },
    {
      "cell_type": "code",
      "source": [
        "for n in [10, 100, 1000, 10000, 20000]:\n",
        "  arr = [0]*n\n",
        "  for i in range(n):\n",
        "    arr[i] = int(random.random()*n)\n",
        "  now = time.time()\n",
        "  insertion_sort(arr)\n",
        "  print(\"It took {} \\t miliseconds to sort array of {} size\".format(int((time.time()-now)*1000), n))"
      ],
      "metadata": {
        "colab": {
          "base_uri": "https://localhost:8080/"
        },
        "id": "aYBl2MX29Xqq",
        "outputId": "3b618fb6-fa0f-45c5-aa96-654bc2da4a72"
      },
      "execution_count": null,
      "outputs": [
        {
          "output_type": "stream",
          "name": "stdout",
          "text": [
            "It took 0 \t miliseconds to sort array of 10 size\n",
            "It took 0 \t miliseconds to sort array of 100 size\n",
            "It took 82 \t miliseconds to sort array of 1000 size\n",
            "It took 8096 \t miliseconds to sort array of 10000 size\n",
            "It took 31763 \t miliseconds to sort array of 20000 size\n"
          ]
        }
      ]
    },
    {
      "cell_type": "markdown",
      "source": [
        "## ShellSort"
      ],
      "metadata": {
        "id": "rW2WWvxqDk1M"
      }
    },
    {
      "cell_type": "code",
      "source": [
        "import random\n",
        "import time"
      ],
      "metadata": {
        "id": "1rb_itoIBk2k"
      },
      "execution_count": null,
      "outputs": []
    },
    {
      "cell_type": "code",
      "source": [
        "def shell_sort(ary):\n",
        "  h = 0\n",
        "  while (h < len(ary)/3):\n",
        "    h = 3*h+1\n",
        "  \n",
        "  while (h >= 1):\n",
        "    for i in range(len(ary)):\n",
        "      for j in range(i, 0, -h):\n",
        "        if ary[j] < ary[j-h]:\n",
        "          ary[j], ary[j-h] = ary[j-h], ary[j]\n",
        "        else:\n",
        "          break\n",
        "    h = h//3"
      ],
      "metadata": {
        "id": "drO1feu5Dohi"
      },
      "execution_count": null,
      "outputs": []
    },
    {
      "cell_type": "code",
      "source": [
        "for n in [10, 100, 1000, 10000, 20000]:\n",
        "  arr = [0]*n\n",
        "  for i in range(n):\n",
        "    arr[i] = int(random.random()*n)\n",
        "  now = time.time()\n",
        "  shell_sort(arr)\n",
        "  print(\"It took {} \\t miliseconds to sort array of {} size\".format(int((time.time()-now)*1000), n))"
      ],
      "metadata": {
        "colab": {
          "base_uri": "https://localhost:8080/"
        },
        "id": "3sb55gSQECUh",
        "outputId": "24a22333-27ca-4b8a-88b8-11b02b09001f"
      },
      "execution_count": null,
      "outputs": [
        {
          "output_type": "stream",
          "name": "stdout",
          "text": [
            "It took 0 \t miliseconds to sort array of 10 size\n",
            "It took 0 \t miliseconds to sort array of 100 size\n",
            "It took 16 \t miliseconds to sort array of 1000 size\n",
            "It took 201 \t miliseconds to sort array of 10000 size\n",
            "It took 453 \t miliseconds to sort array of 20000 size\n"
          ]
        }
      ]
    },
    {
      "cell_type": "markdown",
      "source": [
        "## Shuffling"
      ],
      "metadata": {
        "id": "eDpe6IUeKrAL"
      }
    },
    {
      "cell_type": "code",
      "source": [
        "import random\n",
        "import time"
      ],
      "metadata": {
        "id": "ZM_CzXHbKtGW"
      },
      "execution_count": null,
      "outputs": []
    },
    {
      "cell_type": "code",
      "source": [
        "def shuffle(ary):  \n",
        "  for i in range(len(ary)):\n",
        "    j = int(random.random()*len(ary))\n",
        "    ary[i], ary[j] = ary[j], ary[i]"
      ],
      "metadata": {
        "id": "x7k51APAKyWk"
      },
      "execution_count": null,
      "outputs": []
    }
  ]
}