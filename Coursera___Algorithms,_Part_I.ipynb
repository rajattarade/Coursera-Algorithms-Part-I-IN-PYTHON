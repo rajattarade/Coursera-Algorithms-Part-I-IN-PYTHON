{
  "nbformat": 4,
  "nbformat_minor": 0,
  "metadata": {
    "colab": {
      "name": "Coursera | Algorithms, Part I.ipynb",
      "provenance": [],
      "collapsed_sections": [
        "0md7fjax-vKY",
        "ZCCc0OFxERIN",
        "35fpEuq-E_6U"
      ]
    },
    "kernelspec": {
      "name": "python3",
      "display_name": "Python 3"
    },
    "language_info": {
      "name": "python"
    }
  },
  "cells": [
    {
      "cell_type": "markdown",
      "source": [
        "# **Week 1**"
      ],
      "metadata": {
        "id": "wP7yKIng-sKH"
      }
    },
    {
      "cell_type": "markdown",
      "source": [
        "## Quick Find"
      ],
      "metadata": {
        "id": "0md7fjax-vKY"
      }
    },
    {
      "cell_type": "code",
      "source": [
        "class qf():\n",
        "  def __init__(self, n):\n",
        "    self.arr = [0]*n\n",
        "    for i in range(n):\n",
        "      self.arr[i] = i\n",
        "    \n",
        "  def connected(self, p, q):\n",
        "    return self.arr[p] == self.arr[q]\n",
        "\n",
        "  def union(self, p, q):\n",
        "    pid = self.arr[p]\n",
        "    qid = self.arr[q]\n",
        "    for i in range(len(self.arr)):\n",
        "      if self.arr[i] == pid:\n",
        "        self.arr[i] = qid"
      ],
      "metadata": {
        "id": "mLMPMYqZ-yPR"
      },
      "execution_count": null,
      "outputs": []
    },
    {
      "cell_type": "code",
      "source": [
        "#Tester Code\n",
        "testArr = [[4, 3],\n",
        "[3, 8],\n",
        "[6, 5],\n",
        "[9, 4],\n",
        "[2, 1],\n",
        "[8, 9],\n",
        "[5, 0],\n",
        "[7, 2],\n",
        "[6, 1],\n",
        "[1, 0],\n",
        "[6, 7]]\n",
        "\n",
        "example = qf(len(testArr))\n",
        "\n",
        "for pair in testArr:\n",
        "  p = pair[0]\n",
        "  q = pair[1]\n",
        "  if not example.connected(p, q):\n",
        "    example.union(p, q)\n",
        "    print(str(p) + \" + \" + str(q))\n",
        "\n",
        "print(example.arr)"
      ],
      "metadata": {
        "colab": {
          "base_uri": "https://localhost:8080/"
        },
        "id": "cjOu0YudAlTy",
        "outputId": "38268993-b1eb-4dfa-f9b7-732d3df5fd9d"
      },
      "execution_count": null,
      "outputs": [
        {
          "output_type": "stream",
          "name": "stdout",
          "text": [
            "4 + 3\n",
            "3 + 8\n",
            "6 + 5\n",
            "9 + 4\n",
            "2 + 1\n",
            "5 + 0\n",
            "7 + 2\n",
            "6 + 1\n",
            "[1, 1, 1, 8, 8, 1, 1, 1, 8, 8, 10]\n"
          ]
        }
      ]
    },
    {
      "cell_type": "markdown",
      "source": [
        "## Quick Union\n"
      ],
      "metadata": {
        "id": "ZCCc0OFxERIN"
      }
    },
    {
      "cell_type": "code",
      "source": [
        "class qu():\n",
        "  def __init__(self, n):\n",
        "    self.arr = [0]*n\n",
        "    for i in range(n):\n",
        "      self.arr[i] = i\n",
        "\n",
        "  def findRoot(self, ele):\n",
        "    if (self.arr[ele] != ele):\n",
        "      return self.findRoot(self.arr[ele])\n",
        "    return self.arr[ele]\n",
        "    \n",
        "  def connected(self, p, q):\n",
        "    return self.findRoot(p) == self.findRoot(q)\n",
        "\n",
        "  def union(self, p, q):\n",
        "    self.arr[self.findRoot(p)] = self.findRoot(q)"
      ],
      "metadata": {
        "id": "czCHnynUEWKM"
      },
      "execution_count": null,
      "outputs": []
    },
    {
      "cell_type": "code",
      "source": [
        "#Tester Code\n",
        "testArr = [[4, 3],\n",
        "[3, 8],\n",
        "[6, 5],\n",
        "[9, 4],\n",
        "[2, 1],\n",
        "[8, 9],\n",
        "[5, 0],\n",
        "[7, 2],\n",
        "[6, 1],\n",
        "[1, 0],\n",
        "[6, 7]]\n",
        "\n",
        "example = qu(len(testArr))\n",
        "\n",
        "for pair in testArr:\n",
        "  p = pair[0]\n",
        "  q = pair[1]\n",
        "  if not example.connected(p, q):\n",
        "    example.union(p, q)\n",
        "    print(str(p) + \" + \" + str(q))\n",
        "\n",
        "print(example.arr)"
      ],
      "metadata": {
        "colab": {
          "base_uri": "https://localhost:8080/"
        },
        "id": "3D4Ut6NRFZVj",
        "outputId": "a438772f-9b2a-4516-f683-7a9fd0e9306d"
      },
      "execution_count": null,
      "outputs": [
        {
          "output_type": "stream",
          "name": "stdout",
          "text": [
            "4 + 3\n",
            "3 + 8\n",
            "6 + 5\n",
            "9 + 4\n",
            "2 + 1\n",
            "5 + 0\n",
            "7 + 2\n",
            "6 + 1\n",
            "[1, 1, 1, 8, 3, 0, 5, 1, 8, 8, 10]\n"
          ]
        }
      ]
    },
    {
      "cell_type": "markdown",
      "source": [
        "# **Week 2**"
      ],
      "metadata": {
        "id": "Azkno1cgEr_x"
      }
    },
    {
      "cell_type": "markdown",
      "source": [
        "## Stack using LinkedList"
      ],
      "metadata": {
        "id": "35fpEuq-E_6U"
      }
    },
    {
      "cell_type": "code",
      "source": [
        "#Stack using LinkedList\n",
        "\n",
        "class node():\n",
        "  def __init__(self, item):\n",
        "    self.item = item\n",
        "    self.next = None\n",
        "\n",
        "class stack(node):\n",
        "  def __init__(self):\n",
        "    self.first = node(None)\n",
        "\n",
        "  def push(self, item):\n",
        "    newNode = node(item)\n",
        "    newNode.next = self.first\n",
        "    self.first = newNode\n",
        "\n",
        "  def pop(self):\n",
        "    temp = self.first.item\n",
        "    self.first = self.first.next\n",
        "    return temp\n",
        "\n",
        "  def __repr__(self):\n",
        "    item = self.first\n",
        "    while(item.next != None):\n",
        "      print(item.item)\n",
        "      item = item.next\n",
        "    return \"End of Stack\""
      ],
      "metadata": {
        "id": "F9NYNWSUEtCd"
      },
      "execution_count": 75,
      "outputs": []
    },
    {
      "cell_type": "code",
      "source": [
        "#Tester Code\n",
        "\n",
        "testStack = stack()\n",
        "testString = \"to be or not to - be - - that - - - is\"\n",
        "\n",
        "for data in testString.split():\n",
        "  if data == '-':\n",
        "    print(testStack.pop())\n",
        "  else:\n",
        "    testStack.push(data)"
      ],
      "metadata": {
        "colab": {
          "base_uri": "https://localhost:8080/"
        },
        "id": "fKzAKQotW_s5",
        "outputId": "7b769cff-d99d-461f-ef68-4e27a3e6dd94"
      },
      "execution_count": 83,
      "outputs": [
        {
          "output_type": "stream",
          "name": "stdout",
          "text": [
            "to\n",
            "be\n",
            "not\n",
            "that\n",
            "or\n",
            "be\n"
          ]
        }
      ]
    },
    {
      "cell_type": "markdown",
      "source": [
        "## Stack using Array"
      ],
      "metadata": {
        "id": "EgjawWYNZZz2"
      }
    },
    {
      "cell_type": "code",
      "source": [
        ""
      ],
      "metadata": {
        "id": "TDgoLU2fZdDy"
      },
      "execution_count": null,
      "outputs": []
    }
  ]
}